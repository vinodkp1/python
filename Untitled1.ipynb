{
  "nbformat": 4,
  "nbformat_minor": 0,
  "metadata": {
    "colab": {
      "name": "Untitled1.ipynb",
      "provenance": [],
      "authorship_tag": "ABX9TyOWDtna8jRBILGcGxvJOwnw",
      "include_colab_link": true
    },
    "kernelspec": {
      "name": "python3",
      "display_name": "Python 3"
    },
    "language_info": {
      "name": "python"
    }
  },
  "cells": [
    {
      "cell_type": "markdown",
      "metadata": {
        "id": "view-in-github",
        "colab_type": "text"
      },
      "source": [
        "<a href=\"https://colab.research.google.com/github/vinodpatted69/python/blob/main/Untitled1.ipynb\" target=\"_parent\"><img src=\"https://colab.research.google.com/assets/colab-badge.svg\" alt=\"Open In Colab\"/></a>"
      ]
    },
    {
      "cell_type": "code",
      "metadata": {
        "colab": {
          "base_uri": "https://localhost:8080/"
        },
        "id": "JNCAo73KEEgq",
        "outputId": "0ba6a71c-657b-4ba5-c8ba-3079f2a1f253"
      },
      "source": [
        " list= [1,2,3,4]\n",
        " list.append(5)\n",
        " list.pop(4)\n",
        " print(list)"
      ],
      "execution_count": 2,
      "outputs": [
        {
          "output_type": "stream",
          "name": "stdout",
          "text": [
            "[1, 2, 3, 4]\n"
          ]
        }
      ]
    },
    {
      "cell_type": "code",
      "metadata": {
        "colab": {
          "base_uri": "https://localhost:8080/"
        },
        "id": "ypH_5ACOG3fy",
        "outputId": "9a4dab6e-b0e7-4a2d-bec0-2411d152d4b2"
      },
      "source": [
        "list=[\"apple\",\"bat\"]\n",
        "list.insert(2,\"cat\")\n",
        "print(list)"
      ],
      "execution_count": 5,
      "outputs": [
        {
          "output_type": "stream",
          "name": "stdout",
          "text": [
            "['apple', 'bat', 'cat']\n"
          ]
        }
      ]
    },
    {
      "cell_type": "code",
      "metadata": {
        "colab": {
          "base_uri": "https://localhost:8080/"
        },
        "id": "YlLNLikFIYwu",
        "outputId": "91c20243-b760-4a40-a655-d27c89f5fabd"
      },
      "source": [
        "list=[3,2,4,5]\n",
        "list.sort()\n",
        "print(list)"
      ],
      "execution_count": 12,
      "outputs": [
        {
          "output_type": "stream",
          "name": "stdout",
          "text": [
            "[2, 3, 4, 5]\n"
          ]
        }
      ]
    },
    {
      "cell_type": "code",
      "metadata": {
        "colab": {
          "base_uri": "https://localhost:8080/"
        },
        "id": "hXZq7CE9JmXJ",
        "outputId": "1ea7a04c-b241-4763-cb21-c4fb5c47bc39"
      },
      "source": [
        "list=[2,4,7,9]\n",
        "list.copy()\n",
        "print(list)"
      ],
      "execution_count": 23,
      "outputs": [
        {
          "output_type": "stream",
          "name": "stdout",
          "text": [
            "[2, 4, 7, 9]\n"
          ]
        }
      ]
    },
    {
      "cell_type": "code",
      "metadata": {
        "colab": {
          "base_uri": "https://localhost:8080/"
        },
        "id": "QcbgxU-kLCXo",
        "outputId": "9f2e809f-c7e9-455c-e262-2e9f66c4ad61"
      },
      "source": [
        "tuple=('bat',1,2,3,'cat')\n",
        "print(tuple)"
      ],
      "execution_count": 30,
      "outputs": [
        {
          "output_type": "stream",
          "name": "stdout",
          "text": [
            "('bat', 1, 2, 3, 'cat')\n"
          ]
        }
      ]
    },
    {
      "cell_type": "code",
      "metadata": {
        "colab": {
          "base_uri": "https://localhost:8080/"
        },
        "id": "OVU2ENDXM9mu",
        "outputId": "5384f122-3f40-4693-f710-3c5f59e04c11"
      },
      "source": [
        "set={1,2,2}\n",
        "print(set)"
      ],
      "execution_count": 32,
      "outputs": [
        {
          "output_type": "stream",
          "name": "stdout",
          "text": [
            "{1, 2}\n"
          ]
        }
      ]
    },
    {
      "cell_type": "code",
      "metadata": {
        "colab": {
          "base_uri": "https://localhost:8080/"
        },
        "id": "hZjW7i3TN8_z",
        "outputId": "cb4ad9b4-992b-4106-ddcc-c25844d4582e"
      },
      "source": [
        "set={1,'ant',1,'ant'}\n",
        "print(set)"
      ],
      "execution_count": 33,
      "outputs": [
        {
          "output_type": "stream",
          "name": "stdout",
          "text": [
            "{1, 'ant'}\n"
          ]
        }
      ]
    },
    {
      "cell_type": "code",
      "metadata": {
        "colab": {
          "base_uri": "https://localhost:8080/"
        },
        "id": "iDXjQGn0L1S6",
        "outputId": "8f65aa00-6461-460c-852e-515043d162b8"
      },
      "source": [
        "mylist=[1,2,3]\n",
        "mylist[0]=999\n",
        "print(mylist)"
      ],
      "execution_count": 29,
      "outputs": [
        {
          "output_type": "stream",
          "name": "stdout",
          "text": [
            "[999, 2, 3]\n"
          ]
        }
      ]
    },
    {
      "cell_type": "code",
      "metadata": {
        "colab": {
          "base_uri": "https://localhost:8080/"
        },
        "id": "2KleyxxWOid1",
        "outputId": "8a5b07ac-5ccc-4a2b-ba1c-e0631e30c125"
      },
      "source": [
        "set={2,4,5,6,7,4,5,5,56,5,4,5,4}\n",
        "print(set)"
      ],
      "execution_count": 37,
      "outputs": [
        {
          "output_type": "stream",
          "name": "stdout",
          "text": [
            "{2, 4, 5, 6, 7, 56}\n"
          ]
        }
      ]
    },
    {
      "cell_type": "code",
      "metadata": {
        "colab": {
          "base_uri": "https://localhost:8080/"
        },
        "id": "1heL66SRPY4g",
        "outputId": "d68424ab-80af-46d9-dd2d-d38d3c210915"
      },
      "source": [
        "x={\"rohit\":50,\"vinod\":69}\n",
        "print(x[\"vinod\"])"
      ],
      "execution_count": 45,
      "outputs": [
        {
          "output_type": "stream",
          "name": "stdout",
          "text": [
            "69\n"
          ]
        }
      ]
    },
    {
      "cell_type": "code",
      "metadata": {
        "id": "z-AJt1_mRkN6"
      },
      "source": [
        "tuple1=(11,22)\n",
        "tuple2=(99,88)\n",
        "tuple.swap(tuple)\n",
        "print(tuple)"
      ],
      "execution_count": null,
      "outputs": []
    },
    {
      "cell_type": "code",
      "metadata": {
        "colab": {
          "base_uri": "https://localhost:8080/"
        },
        "id": "kqs2lByWSnTn",
        "outputId": "3dbc074c-5538-4f2b-dc55-810931df4de0"
      },
      "source": [
        "list=[1,2,3,4,5,6,7,8,9,10]\n",
        "list.insert(10,20)\n",
        "print(list)\n",
        "list.pop(10)\n",
        "print(list)"
      ],
      "execution_count": 55,
      "outputs": [
        {
          "output_type": "stream",
          "name": "stdout",
          "text": [
            "[1, 2, 3, 4, 5, 6, 7, 8, 9, 10, 20]\n",
            "[1, 2, 3, 4, 5, 6, 7, 8, 9, 10]\n"
          ]
        }
      ]
    },
    {
      "cell_type": "code",
      "metadata": {
        "colab": {
          "base_uri": "https://localhost:8080/"
        },
        "id": "LKfetGWLUj3S",
        "outputId": "58e29b50-5a5a-4345-8d7d-2761ae77b66e"
      },
      "source": [
        "set1={1,\"yo\",2,\"bro\",3,\"yo\"}\n",
        "set2={4,5,6}\n",
        "x=set1.union(set2)\n",
        "print(x)"
      ],
      "execution_count": 62,
      "outputs": [
        {
          "output_type": "stream",
          "name": "stdout",
          "text": [
            "{1, 2, 3, 'bro', 4, 5, 6, 'yo'}\n"
          ]
        }
      ]
    },
    {
      "cell_type": "code",
      "metadata": {
        "id": "wnCrD4gSWzEp"
      },
      "source": [
        " "
      ],
      "execution_count": null,
      "outputs": []
    },
    {
      "cell_type": "code",
      "metadata": {
        "id": "tTBzywJnTVFa"
      },
      "source": [
        ""
      ],
      "execution_count": null,
      "outputs": []
    }
  ]
}